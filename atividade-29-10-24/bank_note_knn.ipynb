{
 "cells": [
  {
   "cell_type": "code",
   "execution_count": 2,
   "metadata": {},
   "outputs": [],
   "source": [
    "import pandas as pd\n",
    "import matplotlib.pyplot as plt\n",
    "import plotly.express as px\n",
    "\n",
    "import seaborn as sns\n",
    "from sklearn.model_selection import train_test_split\n",
    "from sklearn.preprocessing import StandardScaler\n",
    "from sklearn.neighbors import KNeighborsClassifier\n",
    "from sklearn.metrics import confusion_matrix, accuracy_score"
   ]
  },
  {
   "cell_type": "code",
   "execution_count": 5,
   "metadata": {},
   "outputs": [
    {
     "name": "stdout",
     "output_type": "stream",
     "text": [
      "(1372, 5)\n",
      "   variance  skewness  curtosis  entropy  class\n",
      "0   3.62160    8.6661   -2.8073 -0.44699      0\n",
      "1   4.54590    8.1674   -2.4586 -1.46210      0\n",
      "2   3.86600   -2.6383    1.9242  0.10645      0\n",
      "3   3.45660    9.5228   -4.0112 -3.59440      0\n",
      "4   0.32924   -4.4552    4.5718 -0.98880      0\n"
     ]
    }
   ],
   "source": [
    "# objetivo: criar \n",
    "df = pd.read_csv(\"BankNote_Authentication.csv\")\n",
    "print(df.shape)\n",
    "print(df.head())"
   ]
  },
  {
   "cell_type": "code",
   "execution_count": null,
   "metadata": {},
   "outputs": [],
   "source": []
  },
  {
   "cell_type": "code",
   "execution_count": 6,
   "metadata": {},
   "outputs": [],
   "source": [
    "X = df.iloc[:, 0:4].values #4 primeiras colunas (variancia,skewness,curtosis,entropy)\n",
    "y = df.iloc[:, 4].values # atributo calssificador (0 ou 1)\n",
    "\n",
    "X_treino, X_teste, y_treino, y_teste = train_test_split(X, y, test_size = 0.3, random_state = 3)# grupo de 30% (0.3)"
   ]
  },
  {
   "cell_type": "code",
   "execution_count": 12,
   "metadata": {},
   "outputs": [
    {
     "data": {
      "text/plain": [
       "array([[-0.35563537, -0.29559893, -0.42175725,  0.27454737],\n",
       "       [ 1.48135926,  0.82308356, -0.81337563,  0.41547733],\n",
       "       [ 1.2255603 , -1.15711603,  0.82602783,  1.08241214],\n",
       "       ...,\n",
       "       [ 0.34235362, -0.27651038, -0.82066911,  1.03312119],\n",
       "       [ 1.75669159,  1.40007392, -1.49497537, -1.38007223],\n",
       "       [ 1.10686796, -1.0818375 ,  0.72812505,  1.17870665]])"
      ]
     },
     "execution_count": 12,
     "metadata": {},
     "output_type": "execute_result"
    }
   ],
   "source": [
    "escalonador = StandardScaler()\n",
    "X_treino = escalonador.fit_transform(X_treino)\n",
    "X_teste = escalonador.fit_transform(X_teste)"
   ]
  },
  {
   "cell_type": "code",
   "execution_count": 13,
   "metadata": {},
   "outputs": [],
   "source": [
    "#Classificador KNN\n",
    "k = 3\n",
    "algoritmo = KNeighborsClassifier(n_neighbors = k)\n",
    "algoritmo.fit(X_treino, y_treino)\n",
    "previsoes = algoritmo.predict(X_teste)"
   ]
  },
  {
   "cell_type": "code",
   "execution_count": 15,
   "metadata": {},
   "outputs": [
    {
     "name": "stdout",
     "output_type": "stream",
     "text": [
      "[[239   1]\n",
      " [  0 172]]\n",
      "0.9975728155339806\n"
     ]
    }
   ],
   "source": [
    "#Matriz de Confusão e validação da classificação\n",
    "\n",
    "#                       classificação_real, classificação prevista\n",
    "matriz_confusao = confusion_matrix(y_teste, previsoes)\n",
    "\n",
    "acuracia = accuracy_score(y_teste, previsoes)\n",
    "\n",
    "print(matriz_confusao)\n",
    "print(acuracia)"
   ]
  },
  {
   "cell_type": "code",
   "execution_count": null,
   "metadata": {},
   "outputs": [],
   "source": [
    "sns.heatmap(matriz_confusao, annot = True, fmt='d', cmap = 'plasma')\n",
    "plt.xlabel(\"Previsões\")\n",
    "plt.ylabel(\"Valores Reais\")\n",
    "\n",
    "plt.title(\"Matriz de confusão\")\n",
    "plt.show()"
   ]
  }
 ],
 "metadata": {
  "kernelspec": {
   "display_name": "venv",
   "language": "python",
   "name": "python3"
  },
  "language_info": {
   "codemirror_mode": {
    "name": "ipython",
    "version": 3
   },
   "file_extension": ".py",
   "mimetype": "text/x-python",
   "name": "python",
   "nbconvert_exporter": "python",
   "pygments_lexer": "ipython3",
   "version": "3.12.3"
  }
 },
 "nbformat": 4,
 "nbformat_minor": 2
}
