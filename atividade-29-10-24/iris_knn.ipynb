{
 "cells": [
  {
   "cell_type": "code",
   "execution_count": 42,
   "metadata": {},
   "outputs": [],
   "source": [
    "import pandas as pd\n",
    "import matplotlib.pyplot as plt\n",
    "import plotly.express as px\n",
    "\n",
    "import seaborn as sns\n",
    "\n",
    "from sklearn.model_selection import train_test_split\n",
    "from sklearn.preprocessing import StandardScaler\n",
    "from sklearn.neighbors import KNeighborsClassifier\n",
    "from sklearn.metrics import confusion_matrix, accuracy_score"
   ]
  },
  {
   "cell_type": "code",
   "execution_count": 35,
   "metadata": {},
   "outputs": [
    {
     "name": "stdout",
     "output_type": "stream",
     "text": [
      "(150, 6)\n",
      "   sepal length  sepal width  petal length  petal width  class      class.1\n",
      "0           5.1          3.5           1.4          0.2      0  Iris-setosa\n",
      "1           4.9          3.0           1.4          0.2      0  Iris-setosa\n",
      "2           4.7          3.2           1.3          0.2      0  Iris-setosa\n",
      "3           4.6          3.1           1.5          0.2      0  Iris-setosa\n",
      "4           5.0          3.6           1.4          0.2      0  Iris-setosa\n"
     ]
    }
   ],
   "source": [
    "# objetivo: criar \n",
    "df = pd.read_csv(\"Iris_KNN.csv\")\n",
    "print(df.shape)\n",
    "print(df.head())"
   ]
  },
  {
   "cell_type": "code",
   "execution_count": 36,
   "metadata": {},
   "outputs": [],
   "source": [
    "#substituir valores class por um numero. Iris-setosa = 0, Iris-versicolor = 1, Iris-virginica = 2\n",
    "\n",
    "#df['class.1'] = df['class.1'].replace({'Iris-setosa': 0, 'Iris-versicolor': 1, 'Iris-virginica': 2})\n",
    "\n",
    "#df.head(100)\n"
   ]
  },
  {
   "cell_type": "code",
   "execution_count": 37,
   "metadata": {},
   "outputs": [],
   "source": [
    "X = df.iloc[:, 0:4].values #4 primeiras colunas (variancia,skewness,curtosis,entropy)\n",
    "y = df.iloc[:, 4].values # atributo calssificador (0 ou 1)\n",
    "\n",
    "X_treino, X_teste, y_treino, y_teste = train_test_split(X, y, test_size = 0.3, random_state = 3)# grupo de 30% (0.3)"
   ]
  },
  {
   "cell_type": "code",
   "execution_count": 38,
   "metadata": {},
   "outputs": [],
   "source": [
    "# Padronizar os dados\n",
    "#escalonador = StandardScaler()\n",
    "#X_treino = escalonador.fit_transform(X_treino)\n",
    "#X_teste = escalonador.fit_transform(X_teste)\n",
    "\n",
    "#X_teste"
   ]
  },
  {
   "cell_type": "code",
   "execution_count": 39,
   "metadata": {},
   "outputs": [
    {
     "data": {
      "text/plain": [
       "array([0, 0, 0, 0, 0, 2, 1, 0, 2, 1, 1, 0, 1, 1, 2, 0, 2, 2, 2, 0, 2, 2,\n",
       "       2, 1, 0, 2, 2, 1, 1, 1, 0, 0, 2, 1, 0, 0, 2, 0, 2, 1, 2, 1, 0, 0,\n",
       "       2])"
      ]
     },
     "execution_count": 39,
     "metadata": {},
     "output_type": "execute_result"
    }
   ],
   "source": [
    "#Classificador KNN\n",
    "k = 3\n",
    "algoritmo = KNeighborsClassifier(n_neighbors = k)\n",
    "algoritmo.fit(X_treino, y_treino)\n",
    "previsoes = algoritmo.predict(X_teste)\n",
    "previsoes"
   ]
  },
  {
   "cell_type": "code",
   "execution_count": 40,
   "metadata": {},
   "outputs": [
    {
     "name": "stdout",
     "output_type": "stream",
     "text": [
      "[[17  0  0]\n",
      " [ 0 12  2]\n",
      " [ 0  0 14]]\n",
      "0.9555555555555556\n"
     ]
    }
   ],
   "source": [
    "#Matriz de Confusão e validação da classificação\n",
    "\n",
    "#                       classificação_real, classificação prevista\n",
    "matriz_confusao = confusion_matrix(y_teste, previsoes)\n",
    "\n",
    "acuracia = accuracy_score(y_teste, previsoes)\n",
    "\n",
    "print(matriz_confusao)\n",
    "print(acuracia)"
   ]
  },
  {
   "cell_type": "code",
   "execution_count": 43,
   "metadata": {},
   "outputs": [
    {
     "data": {
      "image/png": "[encoded data removed]",
      "text/plain": [
       "<Figure size 640x480 with 2 Axes>"
      ]
     },
     "metadata": {},
     "output_type": "display_data"
    }
   ],
   "source": [
    "sns.heatmap(matriz_confusao, annot = True, fmt='d', cmap = 'plasma')\n",
    "plt.xlabel(\"Previsões\")\n",
    "plt.ylabel(\"Valores Reais\")\n",
    "\n",
    "plt.title(\"Matriz de confusão\")\n",
    "plt.show()"
   ]
  }
 ],
 "metadata": {
  "kernelspec": {
   "display_name": "venv",
   "language": "python",
   "name": "python3"
  },
  "language_info": {
   "codemirror_mode": {
    "name": "ipython",
    "version": 3
   },
   "file_extension": ".py",
   "mimetype": "text/x-python",
   "name": "python",
   "nbconvert_exporter": "python",
   "pygments_lexer": "ipython3",
   "version": "3.12.3"
  }
 },
 "nbformat": 4,
 "nbformat_minor": 2
}
